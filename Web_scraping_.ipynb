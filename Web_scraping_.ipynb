{
  "nbformat": 4,
  "nbformat_minor": 0,
  "metadata": {
    "colab": {
      "name": "Web scraping .ipynb",
      "provenance": [],
      "collapsed_sections": []
    },
    "kernelspec": {
      "name": "python3",
      "display_name": "Python 3"
    },
    "language_info": {
      "name": "python"
    }
  },
  "cells": [
    {
      "cell_type": "code",
      "execution_count": null,
      "metadata": {
        "id": "vshJwtPpH0Jd"
      },
      "outputs": [],
      "source": [
        "from bs4 import BeautifulSoup \n",
        "\n",
        "import requests \n",
        "\n",
        "import csv\n",
        "\n",
        "import pandas as pd"
      ]
    },
    {
      "cell_type": "code",
      "source": [
        "phone_name=[]\n",
        "phone_price=[]\n",
        "phone_rating=[]\n",
        "page_num=int(input(\"Enter number of pages: \"))\n",
        "for i in range(1,page_num+1):\n",
        "  url=\"https://www.flipkart.com/search?q=smartphones&otracker=search&otracker1=search&marketplace=FLIPKART&as-show=on&as=off&page= \"+str(i)\n",
        "  req=requests.get(url)\n",
        "  content = BeautifulSoup(req.content ,\"html.parser\")\n",
        "  name=content.find_all('div',attrs={'class':'_4rR01T'})\n",
        "  price=content.find_all('div',attrs={'class':'_30jeq3 _1_WHN1'})\n",
        "  rating=content.find_all('div',attrs={'class':'_3LWZlK'})\n",
        "  print(\"Phone in Page \"+str(i))\n",
        "  print(len(name))\n",
        "\n",
        "  for i in name:\n",
        "    phone_name.append(i.text)\n",
        "\n",
        "  for i in price:\n",
        "    phone_price.append(i.text)\n",
        "\n",
        "  for i in rating:\n",
        "    phone_rating.append(i.text)  \n",
        "\n",
        "\n",
        "\n",
        "\n"
      ],
      "metadata": {
        "colab": {
          "base_uri": "https://localhost:8080/"
        },
        "id": "X-mwwaSbbPfI",
        "outputId": "96a3cf96-ae00-4170-a65f-5daa6a60613f"
      },
      "execution_count": null,
      "outputs": [
        {
          "output_type": "stream",
          "name": "stdout",
          "text": [
            "Enter number of pages: 4\n",
            "Phone in Page 1\n",
            "24\n",
            "Phone in Page 2\n",
            "24\n",
            "Phone in Page 3\n",
            "24\n",
            "Phone in Page 4\n",
            "24\n"
          ]
        }
      ]
    },
    {
      "cell_type": "code",
      "source": [
        "data = {\"Phone name\":phone_name,\"Phone Price\":phone_price,\"Rating\":phone_rating}\n",
        "df=pd.DataFrame.from_dict(data, orient='index')\n",
        "df = df.transpose()\n",
        "print(df)"
      ],
      "metadata": {
        "colab": {
          "base_uri": "https://localhost:8080/"
        },
        "id": "OW8XeTcpif1t",
        "outputId": "cc2a0dd9-6419-4738-e4ad-2402db7c2b6e"
      },
      "execution_count": null,
      "outputs": [
        {
          "output_type": "stream",
          "name": "stdout",
          "text": [
            "                                     Phone name Phone Price Rating\n",
            "0    SAMSUNG Galaxy F13 (Waterfall Blue, 64 GB)     ₹11,999    4.4\n",
            "1    SAMSUNG Galaxy F13 (Nightsky Green, 64 GB)     ₹11,999    4.4\n",
            "2                  POCO C31 (Royal Blue, 64 GB)      ₹7,999    4.3\n",
            "3              realme C25_Y (Metal Grey, 64 GB)     ₹10,999    4.4\n",
            "4           REDMI Note 10S (Frost White, 64 GB)     ₹12,499    4.4\n",
            "..                                          ...         ...    ...\n",
            "151                                        None        None      5\n",
            "152                                        None        None      4\n",
            "153                                        None        None    4.3\n",
            "154                                        None        None      5\n",
            "155                                        None        None      2\n",
            "\n",
            "[156 rows x 3 columns]\n"
          ]
        }
      ]
    },
    {
      "cell_type": "code",
      "source": [
        "# pd.set_option('display.max_rows', None)\n",
        "print(df)"
      ],
      "metadata": {
        "colab": {
          "base_uri": "https://localhost:8080/"
        },
        "id": "dewChqunmVsK",
        "outputId": "3028bf3d-4003-45d4-b86f-cc683d77c84e"
      },
      "execution_count": null,
      "outputs": [
        {
          "output_type": "stream",
          "name": "stdout",
          "text": [
            "                                     Phone name Phone Price Rating\n",
            "0    SAMSUNG Galaxy F13 (Waterfall Blue, 64 GB)     ₹11,999    4.4\n",
            "1    SAMSUNG Galaxy F13 (Nightsky Green, 64 GB)     ₹11,999    4.4\n",
            "2                  POCO C31 (Royal Blue, 64 GB)      ₹7,999    4.3\n",
            "3              realme C25_Y (Metal Grey, 64 GB)     ₹10,999    4.4\n",
            "4           REDMI Note 10S (Frost White, 64 GB)     ₹12,499    4.4\n",
            "..                                          ...         ...    ...\n",
            "151                                        None        None      5\n",
            "152                                        None        None      4\n",
            "153                                        None        None    4.3\n",
            "154                                        None        None      5\n",
            "155                                        None        None      2\n",
            "\n",
            "[156 rows x 3 columns]\n"
          ]
        }
      ]
    },
    {
      "cell_type": "code",
      "source": [
        "df.to_csv('file1.csv')"
      ],
      "metadata": {
        "id": "vOWZ2lOZ4Dlj"
      },
      "execution_count": null,
      "outputs": []
    }
  ]
}